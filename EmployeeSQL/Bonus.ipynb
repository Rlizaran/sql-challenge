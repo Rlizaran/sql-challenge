{
 "cells": [
  {
   "cell_type": "code",
   "execution_count": 1,
   "id": "897cd92d",
   "metadata": {
    "tags": []
   },
   "outputs": [],
   "source": [
    "# Dependencies\n",
    "import psycopg2\n",
    "import pandas as pd\n",
    "from password import params\n",
    "import matplotlib.pyplot as plt"
   ]
  },
  {
   "cell_type": "code",
   "execution_count": 2,
   "id": "1e9b18f5-30d2-4eb9-8619-123cae711b14",
   "metadata": {},
   "outputs": [],
   "source": [
    "# Pass in parameters from password and set connection with psycopg2\n",
    "connection = psycopg2.connect(**params)"
   ]
  },
  {
   "cell_type": "code",
   "execution_count": 3,
   "id": "08c608c8-20c2-48bf-8a8e-d360632923b3",
   "metadata": {},
   "outputs": [],
   "source": [
    "# Create Salary DataFrame by querying the database\n",
    "salary_df = pd.read_sql_query('SELECT * FROM \"Salary\";', con = connection)"
   ]
  },
  {
   "cell_type": "code",
   "execution_count": 4,
   "id": "074d1add-3adb-4763-83c7-f98ad760f761",
   "metadata": {},
   "outputs": [],
   "source": [
    "# Get Median Salary of Employees\n",
    "medianSalary = salary_df['salary'].median()"
   ]
  },
  {
   "cell_type": "code",
   "execution_count": 5,
   "id": "8fe8c711-a42b-4015-a6c8-f097f8d85879",
   "metadata": {},
   "outputs": [
    {
     "data": {
      "image/png": "[encoded data removed]",
      "text/plain": [
       "<Figure size 720x360 with 1 Axes>"
      ]
     },
     "metadata": {
      "needs_background": "light"
     },
     "output_type": "display_data"
    }
   ],
   "source": [
    "# Graph a histogram with median salary of Employees and Emplyees' Salary\n",
    "plt.figure(figsize=(10,5))\n",
    "plt.axvline(medianSalary, color ='Red', label=f'Salary Median {medianSalary}')\n",
    "plt.legend()\n",
    "plt.hist(salary_df['salary'], edgecolor='black')\n",
    "plt.title ('Most Common Salary Among Employees')\n",
    "plt.xlabel('Salary')\n",
    "plt.ylabel('Total Employees')\n",
    "plt.tight_layout()\n",
    "plt.savefig('Images/Most Common Salary Among Employees.png')\n",
    "\n",
    "plt.show()"
   ]
  },
  {
   "cell_type": "code",
   "execution_count": 6,
   "id": "2cea2878-342a-4b8f-a903-3f86fb99befe",
   "metadata": {},
   "outputs": [],
   "source": [
    "# Query tables to get desire parameters\n",
    "selection = 'SELECT t.title, s.salary FROM \"Titles\" as t INNER JOIN \"Employees\" as emp ON t.title_id = emp.emp_title_id INNER JOIN \"Salary\" as s ON emp.emp_no = s.emp_no'"
   ]
  },
  {
   "cell_type": "code",
   "execution_count": 7,
   "id": "21eaf056-8c11-4351-bc15-62802d1e9dbb",
   "metadata": {},
   "outputs": [],
   "source": [
    "# Select title and salary from tables Titles, Employees and Salary\n",
    "salary_title_df = pd.read_sql_query(selection, con = connection)\n",
    "\n",
    "# Group by title and get average salary in sorted values\n",
    "meanSalary_by_title = salary_title_df.groupby('title').mean()\n",
    "meanSalary_by_title = meanSalary_by_title.sort_values('salary', ascending=False)"
   ]
  },
  {
   "cell_type": "code",
   "execution_count": 8,
   "id": "6eee56fb-e6a9-479c-abf8-2346cc6f9006",
   "metadata": {},
   "outputs": [
    {
     "data": {
      "text/html": [
       "<div>\n",
       "<style scoped>\n",
       "    .dataframe tbody tr th:only-of-type {\n",
       "        vertical-align: middle;\n",
       "    }\n",
       "\n",
       "    .dataframe tbody tr th {\n",
       "        vertical-align: top;\n",
       "    }\n",
       "\n",
       "    .dataframe thead th {\n",
       "        text-align: right;\n",
       "    }\n",
       "</style>\n",
       "<table border=\"1\" class=\"dataframe\">\n",
       "  <thead>\n",
       "    <tr style=\"text-align: right;\">\n",
       "      <th></th>\n",
       "      <th>salary</th>\n",
       "    </tr>\n",
       "    <tr>\n",
       "      <th>title</th>\n",
       "      <th></th>\n",
       "    </tr>\n",
       "  </thead>\n",
       "  <tbody>\n",
       "    <tr>\n",
       "      <th>Senior Staff</th>\n",
       "      <td>58550.172704</td>\n",
       "    </tr>\n",
       "    <tr>\n",
       "      <th>Staff</th>\n",
       "      <td>58465.382850</td>\n",
       "    </tr>\n",
       "    <tr>\n",
       "      <th>Manager</th>\n",
       "      <td>51531.041667</td>\n",
       "    </tr>\n",
       "    <tr>\n",
       "      <th>Technique Leader</th>\n",
       "      <td>48582.896092</td>\n",
       "    </tr>\n",
       "    <tr>\n",
       "      <th>Assistant Engineer</th>\n",
       "      <td>48564.434447</td>\n",
       "    </tr>\n",
       "    <tr>\n",
       "      <th>Engineer</th>\n",
       "      <td>48535.336511</td>\n",
       "    </tr>\n",
       "    <tr>\n",
       "      <th>Senior Engineer</th>\n",
       "      <td>48506.799871</td>\n",
       "    </tr>\n",
       "  </tbody>\n",
       "</table>\n",
       "</div>"
      ],
      "text/plain": [
       "                          salary\n",
       "title                           \n",
       "Senior Staff        58550.172704\n",
       "Staff               58465.382850\n",
       "Manager             51531.041667\n",
       "Technique Leader    48582.896092\n",
       "Assistant Engineer  48564.434447\n",
       "Engineer            48535.336511\n",
       "Senior Engineer     48506.799871"
      ]
     },
     "execution_count": 8,
     "metadata": {},
     "output_type": "execute_result"
    }
   ],
   "source": [
    "# Show DataFrame\n",
    "meanSalary_by_title"
   ]
  },
  {
   "cell_type": "code",
   "execution_count": 9,
   "id": "7d21d260-c38e-4fcd-8f46-eb37b6d8f9ea",
   "metadata": {},
   "outputs": [
    {
     "data": {
      "image/png": "[encoded data removed]",
      "text/plain": [
       "<Figure size 720x360 with 1 Axes>"
      ]
     },
     "metadata": {
      "needs_background": "light"
     },
     "output_type": "display_data"
    }
   ],
   "source": [
    "# Create a bar chart of average salary by title\n",
    "meanSalary_by_title.plot(kind='bar', title = \"Average Salary by Title\", xlabel=\"Title\", ylabel='Salary', figsize=(10,5))\n",
    "plt.tight_layout()\n",
    "plt.savefig('Images/Average Salary by Title.png')\n",
    "plt.show()"
   ]
  }
 ],
 "metadata": {
  "kernelspec": {
   "display_name": "Python 3",
   "language": "python",
   "name": "python3"
  },
  "language_info": {
   "codemirror_mode": {
    "name": "ipython",
    "version": 3
   },
   "file_extension": ".py",
   "mimetype": "text/x-python",
   "name": "python",
   "nbconvert_exporter": "python",
   "pygments_lexer": "ipython3",
   "version": "3.8.8"
  }
 },
 "nbformat": 4,
 "nbformat_minor": 5
}

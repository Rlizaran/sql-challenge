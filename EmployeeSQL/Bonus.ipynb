{
 "cells": [
  {
   "cell_type": "code",
   "execution_count": 1,
   "id": "897cd92d",
   "metadata": {
    "tags": []
   },
   "outputs": [],
   "source": [
    "# Dependencies\n",
    "import psycopg2\n",
    "import pandas as pd\n",
    "import password\n",
    "import matplotlib.pyplot as plt"
   ]
  },
  {
   "cell_type": "code",
   "execution_count": 2,
   "id": "1e9b18f5-30d2-4eb9-8619-123cae711b14",
   "metadata": {},
   "outputs": [
    {
     "ename": "NameError",
     "evalue": "name 'parmas' is not defined",
     "output_type": "error",
     "traceback": [
      "\u001b[1;31m---------------------------------------------------------------------------\u001b[0m",
      "\u001b[1;31mNameError\u001b[0m                                 Traceback (most recent call last)",
      "\u001b[1;32m<ipython-input-2-90f09380af9a>\u001b[0m in \u001b[0;36m<module>\u001b[1;34m\u001b[0m\n\u001b[0;32m      1\u001b[0m \u001b[1;31m# Pass in parameters from password and set connection with psycopg2\u001b[0m\u001b[1;33m\u001b[0m\u001b[1;33m\u001b[0m\u001b[1;33m\u001b[0m\u001b[0m\n\u001b[1;32m----> 2\u001b[1;33m \u001b[0mconnection\u001b[0m \u001b[1;33m=\u001b[0m \u001b[0mpsycopg2\u001b[0m\u001b[1;33m.\u001b[0m\u001b[0mconnect\u001b[0m\u001b[1;33m(\u001b[0m\u001b[1;33m**\u001b[0m\u001b[0mparmas\u001b[0m\u001b[1;33m)\u001b[0m\u001b[1;33m\u001b[0m\u001b[1;33m\u001b[0m\u001b[0m\n\u001b[0m",
      "\u001b[1;31mNameError\u001b[0m: name 'parmas' is not defined"
     ]
    }
   ],
   "source": [
    "# Pass in parameters from password and set connection with psycopg2\n",
    "connection = psycopg2.connect(**parmas)"
   ]
  },
  {
   "cell_type": "code",
   "execution_count": null,
   "id": "08c608c8-20c2-48bf-8a8e-d360632923b3",
   "metadata": {},
   "outputs": [],
   "source": [
    "# Create Salary DataFrame by querying the database\n",
    "salary_df = pd.read_sql_query('SELECT * FROM \"Salary\";', con = connection)"
   ]
  },
  {
   "cell_type": "code",
   "execution_count": null,
   "id": "074d1add-3adb-4763-83c7-f98ad760f761",
   "metadata": {},
   "outputs": [],
   "source": [
    "# Get Median Salary of Employees\n",
    "medianSalary = salary_df['salary'].median()"
   ]
  },
  {
   "cell_type": "code",
   "execution_count": null,
   "id": "8fe8c711-a42b-4015-a6c8-f097f8d85879",
   "metadata": {},
   "outputs": [],
   "source": [
    "# Graph a histogram with median salary of Employees and Emplyees' Salary\n",
    "plt.figure(figsize=(10,5))\n",
    "plt.axvline(medianSalary, color ='Red', label=f'Salary Median {medianSalary}')\n",
    "plt.legend()\n",
    "plt.hist(salary_df['salary'], edgecolor='black')\n",
    "plt.title ('Most Common Salary Among Employees')\n",
    "plt.xlabel('Salary')\n",
    "plt.ylabel('Total Employees')\n",
    "plt.tight_layout()\n",
    "\n",
    "plt.show()"
   ]
  },
  {
   "cell_type": "code",
   "execution_count": null,
   "id": "2cea2878-342a-4b8f-a903-3f86fb99befe",
   "metadata": {},
   "outputs": [],
   "source": [
    "# Query tables to get desire parameters\n",
    "selection = 'SELECT t.title, s.salary FROM \"Titles\" as t INNER JOIN \"Employees\" as emp ON t.title_id = emp.emp_title_id INNER JOIN \"Salary\" as s ON emp.emp_no = s.emp_no'"
   ]
  },
  {
   "cell_type": "code",
   "execution_count": null,
   "id": "21eaf056-8c11-4351-bc15-62802d1e9dbb",
   "metadata": {},
   "outputs": [],
   "source": [
    "# Select title and salary from tables Titles, Employees and Salary\n",
    "salary_title_df = pd.read_sql_query(selection, con = connection)\n",
    "\n",
    "# Group by title and get average salary in sorted values\n",
    "meanSalary_by_title = salary_title_df.groupby('title').mean()\n",
    "meanSalary_by_title = meanSalary_by_title.sort_values('salary', ascending=False)"
   ]
  },
  {
   "cell_type": "code",
   "execution_count": null,
   "id": "6eee56fb-e6a9-479c-abf8-2346cc6f9006",
   "metadata": {},
   "outputs": [],
   "source": [
    "# Show DataFrame\n",
    "meanSalary_by_title"
   ]
  },
  {
   "cell_type": "code",
   "execution_count": null,
   "id": "7d21d260-c38e-4fcd-8f46-eb37b6d8f9ea",
   "metadata": {},
   "outputs": [],
   "source": [
    "# Create a bar chart of average salary by title\n",
    "meanSalary_by_title.plot(kind='bar', title = \"Average Salary by Title\", xlabel=\"Title\", ylabel='Salary', figsize=(10,5))\n",
    "plt.tight_layout()\n",
    "plt.show()"
   ]
  },
  {
   "cell_type": "code",
   "execution_count": null,
   "id": "638bbcc4-96b8-4dde-833a-fee0a22a7a49",
   "metadata": {},
   "outputs": [],
   "source": []
  }
 ],
 "metadata": {
  "kernelspec": {
   "display_name": "Python 3",
   "language": "python",
   "name": "python3"
  },
  "language_info": {
   "codemirror_mode": {
    "name": "ipython",
    "version": 3
   },
   "file_extension": ".py",
   "mimetype": "text/x-python",
   "name": "python",
   "nbconvert_exporter": "python",
   "pygments_lexer": "ipython3",
   "version": "3.8.8"
  }
 },
 "nbformat": 4,
 "nbformat_minor": 5
}
